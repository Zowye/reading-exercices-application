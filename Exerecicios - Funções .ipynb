{
 "cells": [
  {
   "cell_type": "markdown",
   "id": "124cde94",
   "metadata": {},
   "source": [
    "# Lista Funções"
   ]
  },
  {
   "cell_type": "code",
   "execution_count": 13,
   "id": "51c4e5d9",
   "metadata": {},
   "outputs": [],
   "source": [
    "# Definindo uma Função\n",
    "def funcao_legal(nome, idade, signo):\n",
    "    if signo == \"virgem\":\n",
    "        print(f\"Olá {nome}, você tem {idade} anos e é muito organizado.\")\n",
    "    elif signo == \"peixes\":\n",
    "        print(f\"Olá {nome}, você tem {idade} anos e é muito emotivo.\")\n",
    "    else:\n",
    "        print(f\"Olá {nome}, você tem {idade} anos e não sei nada sobre seu signo.\")"
   ]
  },
  {
   "cell_type": "code",
   "execution_count": 16,
   "id": "cafc0e6b",
   "metadata": {},
   "outputs": [
    {
     "name": "stdout",
     "output_type": "stream",
     "text": [
      "Olá George, você tem 90 anos e é muito organizado.\n"
     ]
    }
   ],
   "source": [
    "# Utilizando uma função\n",
    "funcao_legal(\"George\", 90, \"virgem\")"
   ]
  },
  {
   "cell_type": "code",
   "execution_count": 17,
   "id": "09a15cb7",
   "metadata": {},
   "outputs": [
    {
     "name": "stdout",
     "output_type": "stream",
     "text": [
      "Olá José, você tem 10 anos e não sei nada sobre seu signo.\n"
     ]
    }
   ],
   "source": [
    "# Utilizando uma função\n",
    "funcao_legal(\"José\", 10, \"touro\")"
   ]
  },
  {
   "cell_type": "markdown",
   "id": "2990b1f7",
   "metadata": {},
   "source": [
    "## 1) Crie uma função que faz uma saudação de Bom Dia, Boa tarde ou  Boa noite, em função do período do dia. Esta função também diz o nome da pessoa.\n",
    "\n",
    "- **Exemplos:**\n",
    "<br>\n",
    "<br>\n",
    "\n",
    "- **INPUT:** \"tarde\", \"João\"\n",
    "- **OUTPUT:** \"Boa tarde, João!\"\n",
    "<br>\n",
    "\n",
    "- **INPUT:** \"manhã\", \"Maria\"\n",
    "- **OUTPUT:** \"Bom dia, Maria!\"\n",
    "<br>\n",
    "\n",
    "- **INPUT:** \"noite\", \"Daniel\"\n",
    "- **OUTPUT:** \"Boa noite, Daniel!\""
   ]
  },
  {
   "cell_type": "code",
   "execution_count": null,
   "id": "90f4e28f",
   "metadata": {},
   "outputs": [],
   "source": []
  },
  {
   "cell_type": "code",
   "execution_count": null,
   "id": "8fb6951c",
   "metadata": {},
   "outputs": [],
   "source": []
  },
  {
   "cell_type": "markdown",
   "id": "cbec62a7",
   "metadata": {},
   "source": [
    "## 2) Em cada uma das listas abaixo, procure quantos elementos do valor N se encontram na lista:\n",
    "\n",
    "Dica: Sim, você pode resolver escrevendo o mesmo código várias vezes repetidas e variando algum parâmetro. Mas e se tiver que fazer a mesma coisa 1 milhão de vezes? Por que não criar uma função que receba como parâmetro este valor N a ser encontrado e imprima o resultado? __#FICAADICA__"
   ]
  },
  {
   "cell_type": "code",
   "execution_count": 26,
   "id": "aeb5894b",
   "metadata": {},
   "outputs": [],
   "source": [
    "# Espaço para construir a função:\n",
    "\n",
    "\n",
    "\n",
    "\n"
   ]
  },
  {
   "cell_type": "code",
   "execution_count": 27,
   "id": "f56af28e",
   "metadata": {},
   "outputs": [],
   "source": [
    "LISTA_1 = [7,1,5,6,1,5,2,6,8,9,3,2,7,9,1]\n",
    "\n",
    "# Seu código aqui:"
   ]
  },
  {
   "cell_type": "code",
   "execution_count": 28,
   "id": "f03cfeb4",
   "metadata": {},
   "outputs": [],
   "source": [
    "LISTA_2 = [2,6,8,3,5,7,7,2,6,8,9,2,4]\n",
    "\n",
    "# Seu código aqui:"
   ]
  },
  {
   "cell_type": "code",
   "execution_count": 29,
   "id": "ba0edeec",
   "metadata": {},
   "outputs": [],
   "source": [
    "LISTA_3 = [0,9,3,6,8,8,8,5,9,0,0,0,0,2,3,5,6,7,1,2]\n",
    "\n",
    "# Seu código aqui:"
   ]
  },
  {
   "cell_type": "code",
   "execution_count": 30,
   "id": "f402b996",
   "metadata": {},
   "outputs": [],
   "source": [
    "LISTA_4 = [1,5,2,6,8,9,3,2,7,9,1,8,9,3,2,7,9,1,8,9,3,2,7,9,1]\n",
    "\n",
    "# Seu código aqui:"
   ]
  },
  {
   "cell_type": "code",
   "execution_count": 31,
   "id": "df16be5f",
   "metadata": {},
   "outputs": [],
   "source": [
    "LISTA_5 = [1,5,2,6,8,9,3,2,7,9,1,8,9,3,2,7,9,1]\n",
    "\n",
    "# Seu código aqui:"
   ]
  },
  {
   "cell_type": "code",
   "execution_count": 32,
   "id": "2e55cadd",
   "metadata": {},
   "outputs": [],
   "source": [
    "LISTA_6 = [3,3,3,3,4,5,8,2,5,7,3,1,0,0,0,5,2,6,8,9,3,2,7,9,1,8,9,3,2,7,9,1]\n",
    "\n",
    "# Seu código aqui:"
   ]
  },
  {
   "cell_type": "code",
   "execution_count": 43,
   "id": "2dcb9354",
   "metadata": {},
   "outputs": [],
   "source": [
    "from datetime import datetime"
   ]
  },
  {
   "cell_type": "code",
   "execution_count": 44,
   "id": "7cfdacd0",
   "metadata": {},
   "outputs": [
    {
     "data": {
      "text/plain": [
       "datetime.datetime(2023, 5, 25, 15, 32, 17, 2546)"
      ]
     },
     "execution_count": 44,
     "metadata": {},
     "output_type": "execute_result"
    }
   ],
   "source": [
    "datetime.today()"
   ]
  },
  {
   "cell_type": "markdown",
   "id": "5cb76237",
   "metadata": {},
   "source": [
    "## 3) Funções com retorno: Agora começa a ficar interessante.\n",
    "\n",
    "Uma função pode imprimir algo na tela, mas esse print não é capturável nem acessível a outras variáveis. Quando você retorna um valor, a variável que receber este retorno, passa a obter o resultado da função. Exemplo:"
   ]
  },
  {
   "cell_type": "code",
   "execution_count": 33,
   "id": "3e89fcba",
   "metadata": {},
   "outputs": [
    {
     "name": "stdout",
     "output_type": "stream",
     "text": [
      "2.5\n"
     ]
    }
   ],
   "source": [
    "def soma_das_metades(a,b):\n",
    "    return a/2 + b/2\n",
    "\n",
    "# Variável está recebendo o valor da função:\n",
    "resultado = soma_das_metades(2,3)\n",
    "\n",
    "print(resultado)"
   ]
  },
  {
   "cell_type": "code",
   "execution_count": null,
   "id": "5ffc52f8",
   "metadata": {},
   "outputs": [],
   "source": []
  },
  {
   "cell_type": "markdown",
   "id": "682bbeff",
   "metadata": {},
   "source": [
    "## 4) Aplicação:\n",
    "\n",
    "Faça uma função que receba como parâmetro uma lista e um número qualquer. A função deve retornar a mesma lista mas, o primeiro elemento da lista, deve ser trocado pelo número.\n",
    "\n",
    "\n",
    "**Exemplo:**\n",
    "\n",
    "**INPUT:**\n",
    "- lista de entrada: [3,5,1,9,3,1]\n",
    "- número: 10\n",
    "\n",
    "\n",
    "**OUTPUT:**\n",
    "- [10,5,1,9,3,1]"
   ]
  },
  {
   "cell_type": "code",
   "execution_count": null,
   "id": "94a32ae2",
   "metadata": {},
   "outputs": [],
   "source": []
  },
  {
   "cell_type": "code",
   "execution_count": null,
   "id": "66558032",
   "metadata": {},
   "outputs": [],
   "source": []
  },
  {
   "cell_type": "code",
   "execution_count": null,
   "id": "dcdf1c71",
   "metadata": {},
   "outputs": [],
   "source": []
  },
  {
   "cell_type": "code",
   "execution_count": null,
   "id": "16322b85",
   "metadata": {},
   "outputs": [],
   "source": []
  },
  {
   "cell_type": "code",
   "execution_count": null,
   "id": "dce6199b",
   "metadata": {},
   "outputs": [],
   "source": []
  }
 ],
 "metadata": {
  "kernelspec": {
   "display_name": "Python 3 (ipykernel)",
   "language": "python",
   "name": "python3"
  },
  "language_info": {
   "codemirror_mode": {
    "name": "ipython",
    "version": 3
   },
   "file_extension": ".py",
   "mimetype": "text/x-python",
   "name": "python",
   "nbconvert_exporter": "python",
   "pygments_lexer": "ipython3",
   "version": "3.10.9"
  }
 },
 "nbformat": 4,
 "nbformat_minor": 5
}
